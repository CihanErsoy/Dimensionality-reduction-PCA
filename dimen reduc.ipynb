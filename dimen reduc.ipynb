{
 "cells": [
  {
   "cell_type": "code",
   "execution_count": 1,
   "metadata": {},
   "outputs": [],
   "source": [
    "import pandas as pd\n",
    "import numpy as np\n",
    "import matplotlib.pyplot as plt \n",
    "from scipy.stats import pearsonr\n",
    "from sklearn import datasets\n",
    "from sklearn.decomposition import PCA\n",
    "from sklearn.preprocessing import StandardScaler\n",
    "from sklearn.pipeline import make_pipeline\n",
    "%matplotlib inline"
   ]
  },
  {
   "cell_type": "code",
   "execution_count": 2,
   "metadata": {},
   "outputs": [],
   "source": [
    "X,y  = datasets.load_wine(return_X_y=True)"
   ]
  },
  {
   "cell_type": "code",
   "execution_count": 3,
   "metadata": {},
   "outputs": [
    {
     "data": {
      "text/plain": [
       "(178, 13)"
      ]
     },
     "execution_count": 3,
     "metadata": {},
     "output_type": "execute_result"
    }
   ],
   "source": [
    "X.shape"
   ]
  },
  {
   "cell_type": "code",
   "execution_count": 4,
   "metadata": {},
   "outputs": [
    {
     "data": {
      "text/plain": [
       "numpy.ndarray"
      ]
     },
     "execution_count": 4,
     "metadata": {},
     "output_type": "execute_result"
    }
   ],
   "source": [
    "type(X)"
   ]
  },
  {
   "cell_type": "code",
   "execution_count": 5,
   "metadata": {},
   "outputs": [],
   "source": [
    "X_df = pd.DataFrame(X)"
   ]
  },
  {
   "cell_type": "code",
   "execution_count": 6,
   "metadata": {},
   "outputs": [
    {
     "data": {
      "text/html": [
       "<div>\n",
       "<style scoped>\n",
       "    .dataframe tbody tr th:only-of-type {\n",
       "        vertical-align: middle;\n",
       "    }\n",
       "\n",
       "    .dataframe tbody tr th {\n",
       "        vertical-align: top;\n",
       "    }\n",
       "\n",
       "    .dataframe thead th {\n",
       "        text-align: right;\n",
       "    }\n",
       "</style>\n",
       "<table border=\"1\" class=\"dataframe\">\n",
       "  <thead>\n",
       "    <tr style=\"text-align: right;\">\n",
       "      <th></th>\n",
       "      <th>0</th>\n",
       "      <th>1</th>\n",
       "      <th>2</th>\n",
       "      <th>3</th>\n",
       "      <th>4</th>\n",
       "      <th>5</th>\n",
       "      <th>6</th>\n",
       "      <th>7</th>\n",
       "      <th>8</th>\n",
       "      <th>9</th>\n",
       "      <th>10</th>\n",
       "      <th>11</th>\n",
       "      <th>12</th>\n",
       "    </tr>\n",
       "  </thead>\n",
       "  <tbody>\n",
       "    <tr>\n",
       "      <td>0</td>\n",
       "      <td>1.000000</td>\n",
       "      <td>0.094397</td>\n",
       "      <td>0.211545</td>\n",
       "      <td>-0.310235</td>\n",
       "      <td>0.270798</td>\n",
       "      <td>0.289101</td>\n",
       "      <td>0.236815</td>\n",
       "      <td>-0.155929</td>\n",
       "      <td>0.136698</td>\n",
       "      <td>0.546364</td>\n",
       "      <td>-0.071747</td>\n",
       "      <td>0.072343</td>\n",
       "      <td>0.643720</td>\n",
       "    </tr>\n",
       "    <tr>\n",
       "      <td>1</td>\n",
       "      <td>0.094397</td>\n",
       "      <td>1.000000</td>\n",
       "      <td>0.164045</td>\n",
       "      <td>0.288500</td>\n",
       "      <td>-0.054575</td>\n",
       "      <td>-0.335167</td>\n",
       "      <td>-0.411007</td>\n",
       "      <td>0.292977</td>\n",
       "      <td>-0.220746</td>\n",
       "      <td>0.248985</td>\n",
       "      <td>-0.561296</td>\n",
       "      <td>-0.368710</td>\n",
       "      <td>-0.192011</td>\n",
       "    </tr>\n",
       "    <tr>\n",
       "      <td>2</td>\n",
       "      <td>0.211545</td>\n",
       "      <td>0.164045</td>\n",
       "      <td>1.000000</td>\n",
       "      <td>0.443367</td>\n",
       "      <td>0.286587</td>\n",
       "      <td>0.128980</td>\n",
       "      <td>0.115077</td>\n",
       "      <td>0.186230</td>\n",
       "      <td>0.009652</td>\n",
       "      <td>0.258887</td>\n",
       "      <td>-0.074667</td>\n",
       "      <td>0.003911</td>\n",
       "      <td>0.223626</td>\n",
       "    </tr>\n",
       "    <tr>\n",
       "      <td>3</td>\n",
       "      <td>-0.310235</td>\n",
       "      <td>0.288500</td>\n",
       "      <td>0.443367</td>\n",
       "      <td>1.000000</td>\n",
       "      <td>-0.083333</td>\n",
       "      <td>-0.321113</td>\n",
       "      <td>-0.351370</td>\n",
       "      <td>0.361922</td>\n",
       "      <td>-0.197327</td>\n",
       "      <td>0.018732</td>\n",
       "      <td>-0.273955</td>\n",
       "      <td>-0.276769</td>\n",
       "      <td>-0.440597</td>\n",
       "    </tr>\n",
       "    <tr>\n",
       "      <td>4</td>\n",
       "      <td>0.270798</td>\n",
       "      <td>-0.054575</td>\n",
       "      <td>0.286587</td>\n",
       "      <td>-0.083333</td>\n",
       "      <td>1.000000</td>\n",
       "      <td>0.214401</td>\n",
       "      <td>0.195784</td>\n",
       "      <td>-0.256294</td>\n",
       "      <td>0.236441</td>\n",
       "      <td>0.199950</td>\n",
       "      <td>0.055398</td>\n",
       "      <td>0.066004</td>\n",
       "      <td>0.393351</td>\n",
       "    </tr>\n",
       "    <tr>\n",
       "      <td>5</td>\n",
       "      <td>0.289101</td>\n",
       "      <td>-0.335167</td>\n",
       "      <td>0.128980</td>\n",
       "      <td>-0.321113</td>\n",
       "      <td>0.214401</td>\n",
       "      <td>1.000000</td>\n",
       "      <td>0.864564</td>\n",
       "      <td>-0.449935</td>\n",
       "      <td>0.612413</td>\n",
       "      <td>-0.055136</td>\n",
       "      <td>0.433681</td>\n",
       "      <td>0.699949</td>\n",
       "      <td>0.498115</td>\n",
       "    </tr>\n",
       "    <tr>\n",
       "      <td>6</td>\n",
       "      <td>0.236815</td>\n",
       "      <td>-0.411007</td>\n",
       "      <td>0.115077</td>\n",
       "      <td>-0.351370</td>\n",
       "      <td>0.195784</td>\n",
       "      <td>0.864564</td>\n",
       "      <td>1.000000</td>\n",
       "      <td>-0.537900</td>\n",
       "      <td>0.652692</td>\n",
       "      <td>-0.172379</td>\n",
       "      <td>0.543479</td>\n",
       "      <td>0.787194</td>\n",
       "      <td>0.494193</td>\n",
       "    </tr>\n",
       "    <tr>\n",
       "      <td>7</td>\n",
       "      <td>-0.155929</td>\n",
       "      <td>0.292977</td>\n",
       "      <td>0.186230</td>\n",
       "      <td>0.361922</td>\n",
       "      <td>-0.256294</td>\n",
       "      <td>-0.449935</td>\n",
       "      <td>-0.537900</td>\n",
       "      <td>1.000000</td>\n",
       "      <td>-0.365845</td>\n",
       "      <td>0.139057</td>\n",
       "      <td>-0.262640</td>\n",
       "      <td>-0.503270</td>\n",
       "      <td>-0.311385</td>\n",
       "    </tr>\n",
       "    <tr>\n",
       "      <td>8</td>\n",
       "      <td>0.136698</td>\n",
       "      <td>-0.220746</td>\n",
       "      <td>0.009652</td>\n",
       "      <td>-0.197327</td>\n",
       "      <td>0.236441</td>\n",
       "      <td>0.612413</td>\n",
       "      <td>0.652692</td>\n",
       "      <td>-0.365845</td>\n",
       "      <td>1.000000</td>\n",
       "      <td>-0.025250</td>\n",
       "      <td>0.295544</td>\n",
       "      <td>0.519067</td>\n",
       "      <td>0.330417</td>\n",
       "    </tr>\n",
       "    <tr>\n",
       "      <td>9</td>\n",
       "      <td>0.546364</td>\n",
       "      <td>0.248985</td>\n",
       "      <td>0.258887</td>\n",
       "      <td>0.018732</td>\n",
       "      <td>0.199950</td>\n",
       "      <td>-0.055136</td>\n",
       "      <td>-0.172379</td>\n",
       "      <td>0.139057</td>\n",
       "      <td>-0.025250</td>\n",
       "      <td>1.000000</td>\n",
       "      <td>-0.521813</td>\n",
       "      <td>-0.428815</td>\n",
       "      <td>0.316100</td>\n",
       "    </tr>\n",
       "    <tr>\n",
       "      <td>10</td>\n",
       "      <td>-0.071747</td>\n",
       "      <td>-0.561296</td>\n",
       "      <td>-0.074667</td>\n",
       "      <td>-0.273955</td>\n",
       "      <td>0.055398</td>\n",
       "      <td>0.433681</td>\n",
       "      <td>0.543479</td>\n",
       "      <td>-0.262640</td>\n",
       "      <td>0.295544</td>\n",
       "      <td>-0.521813</td>\n",
       "      <td>1.000000</td>\n",
       "      <td>0.565468</td>\n",
       "      <td>0.236183</td>\n",
       "    </tr>\n",
       "    <tr>\n",
       "      <td>11</td>\n",
       "      <td>0.072343</td>\n",
       "      <td>-0.368710</td>\n",
       "      <td>0.003911</td>\n",
       "      <td>-0.276769</td>\n",
       "      <td>0.066004</td>\n",
       "      <td>0.699949</td>\n",
       "      <td>0.787194</td>\n",
       "      <td>-0.503270</td>\n",
       "      <td>0.519067</td>\n",
       "      <td>-0.428815</td>\n",
       "      <td>0.565468</td>\n",
       "      <td>1.000000</td>\n",
       "      <td>0.312761</td>\n",
       "    </tr>\n",
       "    <tr>\n",
       "      <td>12</td>\n",
       "      <td>0.643720</td>\n",
       "      <td>-0.192011</td>\n",
       "      <td>0.223626</td>\n",
       "      <td>-0.440597</td>\n",
       "      <td>0.393351</td>\n",
       "      <td>0.498115</td>\n",
       "      <td>0.494193</td>\n",
       "      <td>-0.311385</td>\n",
       "      <td>0.330417</td>\n",
       "      <td>0.316100</td>\n",
       "      <td>0.236183</td>\n",
       "      <td>0.312761</td>\n",
       "      <td>1.000000</td>\n",
       "    </tr>\n",
       "  </tbody>\n",
       "</table>\n",
       "</div>"
      ],
      "text/plain": [
       "          0         1         2         3         4         5         6   \\\n",
       "0   1.000000  0.094397  0.211545 -0.310235  0.270798  0.289101  0.236815   \n",
       "1   0.094397  1.000000  0.164045  0.288500 -0.054575 -0.335167 -0.411007   \n",
       "2   0.211545  0.164045  1.000000  0.443367  0.286587  0.128980  0.115077   \n",
       "3  -0.310235  0.288500  0.443367  1.000000 -0.083333 -0.321113 -0.351370   \n",
       "4   0.270798 -0.054575  0.286587 -0.083333  1.000000  0.214401  0.195784   \n",
       "5   0.289101 -0.335167  0.128980 -0.321113  0.214401  1.000000  0.864564   \n",
       "6   0.236815 -0.411007  0.115077 -0.351370  0.195784  0.864564  1.000000   \n",
       "7  -0.155929  0.292977  0.186230  0.361922 -0.256294 -0.449935 -0.537900   \n",
       "8   0.136698 -0.220746  0.009652 -0.197327  0.236441  0.612413  0.652692   \n",
       "9   0.546364  0.248985  0.258887  0.018732  0.199950 -0.055136 -0.172379   \n",
       "10 -0.071747 -0.561296 -0.074667 -0.273955  0.055398  0.433681  0.543479   \n",
       "11  0.072343 -0.368710  0.003911 -0.276769  0.066004  0.699949  0.787194   \n",
       "12  0.643720 -0.192011  0.223626 -0.440597  0.393351  0.498115  0.494193   \n",
       "\n",
       "          7         8         9         10        11        12  \n",
       "0  -0.155929  0.136698  0.546364 -0.071747  0.072343  0.643720  \n",
       "1   0.292977 -0.220746  0.248985 -0.561296 -0.368710 -0.192011  \n",
       "2   0.186230  0.009652  0.258887 -0.074667  0.003911  0.223626  \n",
       "3   0.361922 -0.197327  0.018732 -0.273955 -0.276769 -0.440597  \n",
       "4  -0.256294  0.236441  0.199950  0.055398  0.066004  0.393351  \n",
       "5  -0.449935  0.612413 -0.055136  0.433681  0.699949  0.498115  \n",
       "6  -0.537900  0.652692 -0.172379  0.543479  0.787194  0.494193  \n",
       "7   1.000000 -0.365845  0.139057 -0.262640 -0.503270 -0.311385  \n",
       "8  -0.365845  1.000000 -0.025250  0.295544  0.519067  0.330417  \n",
       "9   0.139057 -0.025250  1.000000 -0.521813 -0.428815  0.316100  \n",
       "10 -0.262640  0.295544 -0.521813  1.000000  0.565468  0.236183  \n",
       "11 -0.503270  0.519067 -0.428815  0.565468  1.000000  0.312761  \n",
       "12 -0.311385  0.330417  0.316100  0.236183  0.312761  1.000000  "
      ]
     },
     "execution_count": 6,
     "metadata": {},
     "output_type": "execute_result"
    }
   ],
   "source": [
    "X_df.corr(method = 'pearson')"
   ]
  },
  {
   "cell_type": "code",
   "execution_count": 7,
   "metadata": {},
   "outputs": [],
   "source": [
    "correlation, pvalue = pearsonr(X[:,5], X[:,6])"
   ]
  },
  {
   "cell_type": "code",
   "execution_count": 8,
   "metadata": {},
   "outputs": [
    {
     "data": {
      "text/plain": [
       "0.8645635000951147"
      ]
     },
     "execution_count": 8,
     "metadata": {},
     "output_type": "execute_result"
    }
   ],
   "source": [
    "correlation"
   ]
  },
  {
   "cell_type": "code",
   "execution_count": 9,
   "metadata": {},
   "outputs": [
    {
     "data": {
      "text/plain": [
       "<function matplotlib.pyplot.show(*args, **kw)>"
      ]
     },
     "execution_count": 9,
     "metadata": {},
     "output_type": "execute_result"
    },
    {
     "data": {
      "image/png": "[encoded data removed]",
      "text/plain": [
       "<Figure size 432x288 with 1 Axes>"
      ]
     },
     "metadata": {
      "needs_background": "light"
     },
     "output_type": "display_data"
    }
   ],
   "source": [
    "plt.scatter(X[:,5], X[:,6])\n",
    "plt.show"
   ]
  },
  {
   "cell_type": "code",
   "execution_count": 10,
   "metadata": {},
   "outputs": [],
   "source": [
    "model = PCA()"
   ]
  },
  {
   "cell_type": "code",
   "execution_count": 11,
   "metadata": {},
   "outputs": [],
   "source": [
    "transformed = model.fit_transform(X)"
   ]
  },
  {
   "cell_type": "markdown",
   "metadata": {},
   "source": [
    "fit method learns how to shift and how to roatte teh samples bu doesnt actually change them. transform method , on the other hand, applies transformation that fit learned."
   ]
  },
  {
   "cell_type": "code",
   "execution_count": 12,
   "metadata": {
    "scrolled": true
   },
   "outputs": [
    {
     "data": {
      "text/plain": [
       "(178, 13)"
      ]
     },
     "execution_count": 12,
     "metadata": {},
     "output_type": "execute_result"
    }
   ],
   "source": [
    "transformed.shape"
   ]
  },
  {
   "cell_type": "code",
   "execution_count": 13,
   "metadata": {},
   "outputs": [
    {
     "data": {
      "text/html": [
       "<div>\n",
       "<style scoped>\n",
       "    .dataframe tbody tr th:only-of-type {\n",
       "        vertical-align: middle;\n",
       "    }\n",
       "\n",
       "    .dataframe tbody tr th {\n",
       "        vertical-align: top;\n",
       "    }\n",
       "\n",
       "    .dataframe thead th {\n",
       "        text-align: right;\n",
       "    }\n",
       "</style>\n",
       "<table border=\"1\" class=\"dataframe\">\n",
       "  <thead>\n",
       "    <tr style=\"text-align: right;\">\n",
       "      <th></th>\n",
       "      <th>0</th>\n",
       "      <th>1</th>\n",
       "      <th>2</th>\n",
       "      <th>3</th>\n",
       "      <th>4</th>\n",
       "      <th>5</th>\n",
       "      <th>6</th>\n",
       "      <th>7</th>\n",
       "      <th>8</th>\n",
       "      <th>9</th>\n",
       "      <th>10</th>\n",
       "      <th>11</th>\n",
       "      <th>12</th>\n",
       "    </tr>\n",
       "  </thead>\n",
       "  <tbody>\n",
       "    <tr>\n",
       "      <td>0</td>\n",
       "      <td>1.000000e+00</td>\n",
       "      <td>-2.917774e-17</td>\n",
       "      <td>-1.606386e-16</td>\n",
       "      <td>5.385520e-17</td>\n",
       "      <td>5.834332e-17</td>\n",
       "      <td>-3.391037e-17</td>\n",
       "      <td>3.465215e-16</td>\n",
       "      <td>-1.703431e-17</td>\n",
       "      <td>-6.471569e-18</td>\n",
       "      <td>-3.522260e-17</td>\n",
       "      <td>-7.462733e-17</td>\n",
       "      <td>4.225434e-17</td>\n",
       "      <td>-1.002622e-17</td>\n",
       "    </tr>\n",
       "    <tr>\n",
       "      <td>1</td>\n",
       "      <td>-2.917774e-17</td>\n",
       "      <td>1.000000e+00</td>\n",
       "      <td>-1.135625e-16</td>\n",
       "      <td>8.958063e-17</td>\n",
       "      <td>-3.239782e-17</td>\n",
       "      <td>-5.475110e-17</td>\n",
       "      <td>-1.247206e-16</td>\n",
       "      <td>1.194577e-16</td>\n",
       "      <td>-2.120238e-17</td>\n",
       "      <td>-1.087828e-17</td>\n",
       "      <td>3.863914e-16</td>\n",
       "      <td>-1.703903e-17</td>\n",
       "      <td>-1.865664e-16</td>\n",
       "    </tr>\n",
       "    <tr>\n",
       "      <td>2</td>\n",
       "      <td>-1.606386e-16</td>\n",
       "      <td>-1.135625e-16</td>\n",
       "      <td>1.000000e+00</td>\n",
       "      <td>9.943098e-17</td>\n",
       "      <td>-1.567844e-17</td>\n",
       "      <td>-4.185407e-17</td>\n",
       "      <td>-3.556319e-16</td>\n",
       "      <td>-1.679223e-16</td>\n",
       "      <td>3.475943e-17</td>\n",
       "      <td>-2.439927e-17</td>\n",
       "      <td>-3.718039e-16</td>\n",
       "      <td>-1.793279e-17</td>\n",
       "      <td>5.635460e-19</td>\n",
       "    </tr>\n",
       "    <tr>\n",
       "      <td>3</td>\n",
       "      <td>5.385520e-17</td>\n",
       "      <td>8.958063e-17</td>\n",
       "      <td>9.943098e-17</td>\n",
       "      <td>1.000000e+00</td>\n",
       "      <td>1.635344e-16</td>\n",
       "      <td>-4.041056e-17</td>\n",
       "      <td>-1.020599e-16</td>\n",
       "      <td>8.009812e-17</td>\n",
       "      <td>2.180280e-17</td>\n",
       "      <td>-4.823095e-17</td>\n",
       "      <td>-4.779629e-17</td>\n",
       "      <td>-4.158313e-17</td>\n",
       "      <td>-5.463357e-17</td>\n",
       "    </tr>\n",
       "    <tr>\n",
       "      <td>4</td>\n",
       "      <td>5.834332e-17</td>\n",
       "      <td>-3.239782e-17</td>\n",
       "      <td>-1.567844e-17</td>\n",
       "      <td>1.635344e-16</td>\n",
       "      <td>1.000000e+00</td>\n",
       "      <td>5.478625e-17</td>\n",
       "      <td>8.387026e-17</td>\n",
       "      <td>-6.898809e-17</td>\n",
       "      <td>-1.369675e-16</td>\n",
       "      <td>-7.338084e-18</td>\n",
       "      <td>1.876024e-16</td>\n",
       "      <td>-3.151540e-17</td>\n",
       "      <td>9.548289e-17</td>\n",
       "    </tr>\n",
       "    <tr>\n",
       "      <td>5</td>\n",
       "      <td>-3.391037e-17</td>\n",
       "      <td>-5.475110e-17</td>\n",
       "      <td>-4.185407e-17</td>\n",
       "      <td>-4.041056e-17</td>\n",
       "      <td>5.478625e-17</td>\n",
       "      <td>1.000000e+00</td>\n",
       "      <td>3.043048e-17</td>\n",
       "      <td>-1.098668e-17</td>\n",
       "      <td>1.123540e-17</td>\n",
       "      <td>7.024052e-17</td>\n",
       "      <td>-5.557096e-17</td>\n",
       "      <td>4.358204e-17</td>\n",
       "      <td>-4.011589e-18</td>\n",
       "    </tr>\n",
       "    <tr>\n",
       "      <td>6</td>\n",
       "      <td>3.465215e-16</td>\n",
       "      <td>-1.247206e-16</td>\n",
       "      <td>-3.556319e-16</td>\n",
       "      <td>-1.020599e-16</td>\n",
       "      <td>8.387026e-17</td>\n",
       "      <td>3.043048e-17</td>\n",
       "      <td>1.000000e+00</td>\n",
       "      <td>-2.220508e-16</td>\n",
       "      <td>-1.037492e-16</td>\n",
       "      <td>-2.217471e-18</td>\n",
       "      <td>5.973171e-17</td>\n",
       "      <td>8.436509e-18</td>\n",
       "      <td>-4.097326e-17</td>\n",
       "    </tr>\n",
       "    <tr>\n",
       "      <td>7</td>\n",
       "      <td>-1.703431e-17</td>\n",
       "      <td>1.194577e-16</td>\n",
       "      <td>-1.679223e-16</td>\n",
       "      <td>8.009812e-17</td>\n",
       "      <td>-6.898809e-17</td>\n",
       "      <td>-1.098668e-17</td>\n",
       "      <td>-2.220508e-16</td>\n",
       "      <td>1.000000e+00</td>\n",
       "      <td>3.077143e-16</td>\n",
       "      <td>-8.955512e-17</td>\n",
       "      <td>-2.006379e-16</td>\n",
       "      <td>2.359952e-17</td>\n",
       "      <td>-7.648014e-18</td>\n",
       "    </tr>\n",
       "    <tr>\n",
       "      <td>8</td>\n",
       "      <td>-6.471569e-18</td>\n",
       "      <td>-2.120238e-17</td>\n",
       "      <td>3.475943e-17</td>\n",
       "      <td>2.180280e-17</td>\n",
       "      <td>-1.369675e-16</td>\n",
       "      <td>1.123540e-17</td>\n",
       "      <td>-1.037492e-16</td>\n",
       "      <td>3.077143e-16</td>\n",
       "      <td>1.000000e+00</td>\n",
       "      <td>2.737331e-16</td>\n",
       "      <td>4.101428e-16</td>\n",
       "      <td>-2.490409e-17</td>\n",
       "      <td>5.130613e-17</td>\n",
       "    </tr>\n",
       "    <tr>\n",
       "      <td>9</td>\n",
       "      <td>-3.522260e-17</td>\n",
       "      <td>-1.087828e-17</td>\n",
       "      <td>-2.439927e-17</td>\n",
       "      <td>-4.823095e-17</td>\n",
       "      <td>-7.338084e-18</td>\n",
       "      <td>7.024052e-17</td>\n",
       "      <td>-2.217471e-18</td>\n",
       "      <td>-8.955512e-17</td>\n",
       "      <td>2.737331e-16</td>\n",
       "      <td>1.000000e+00</td>\n",
       "      <td>-3.776282e-17</td>\n",
       "      <td>1.079137e-16</td>\n",
       "      <td>2.533682e-16</td>\n",
       "    </tr>\n",
       "    <tr>\n",
       "      <td>10</td>\n",
       "      <td>-7.462733e-17</td>\n",
       "      <td>3.863914e-16</td>\n",
       "      <td>-3.718039e-16</td>\n",
       "      <td>-4.779629e-17</td>\n",
       "      <td>1.876024e-16</td>\n",
       "      <td>-5.557096e-17</td>\n",
       "      <td>5.973171e-17</td>\n",
       "      <td>-2.006379e-16</td>\n",
       "      <td>4.101428e-16</td>\n",
       "      <td>-3.776282e-17</td>\n",
       "      <td>1.000000e+00</td>\n",
       "      <td>-2.598268e-16</td>\n",
       "      <td>-2.299821e-16</td>\n",
       "    </tr>\n",
       "    <tr>\n",
       "      <td>11</td>\n",
       "      <td>4.225434e-17</td>\n",
       "      <td>-1.703903e-17</td>\n",
       "      <td>-1.793279e-17</td>\n",
       "      <td>-4.158313e-17</td>\n",
       "      <td>-3.151540e-17</td>\n",
       "      <td>4.358204e-17</td>\n",
       "      <td>8.436509e-18</td>\n",
       "      <td>2.359952e-17</td>\n",
       "      <td>-2.490409e-17</td>\n",
       "      <td>1.079137e-16</td>\n",
       "      <td>-2.598268e-16</td>\n",
       "      <td>1.000000e+00</td>\n",
       "      <td>1.225268e-17</td>\n",
       "    </tr>\n",
       "    <tr>\n",
       "      <td>12</td>\n",
       "      <td>-1.002622e-17</td>\n",
       "      <td>-1.865664e-16</td>\n",
       "      <td>5.635460e-19</td>\n",
       "      <td>-5.463357e-17</td>\n",
       "      <td>9.548289e-17</td>\n",
       "      <td>-4.011589e-18</td>\n",
       "      <td>-4.097326e-17</td>\n",
       "      <td>-7.648014e-18</td>\n",
       "      <td>5.130613e-17</td>\n",
       "      <td>2.533682e-16</td>\n",
       "      <td>-2.299821e-16</td>\n",
       "      <td>1.225268e-17</td>\n",
       "      <td>1.000000e+00</td>\n",
       "    </tr>\n",
       "  </tbody>\n",
       "</table>\n",
       "</div>"
      ],
      "text/plain": [
       "              0             1             2             3             4   \\\n",
       "0   1.000000e+00 -2.917774e-17 -1.606386e-16  5.385520e-17  5.834332e-17   \n",
       "1  -2.917774e-17  1.000000e+00 -1.135625e-16  8.958063e-17 -3.239782e-17   \n",
       "2  -1.606386e-16 -1.135625e-16  1.000000e+00  9.943098e-17 -1.567844e-17   \n",
       "3   5.385520e-17  8.958063e-17  9.943098e-17  1.000000e+00  1.635344e-16   \n",
       "4   5.834332e-17 -3.239782e-17 -1.567844e-17  1.635344e-16  1.000000e+00   \n",
       "5  -3.391037e-17 -5.475110e-17 -4.185407e-17 -4.041056e-17  5.478625e-17   \n",
       "6   3.465215e-16 -1.247206e-16 -3.556319e-16 -1.020599e-16  8.387026e-17   \n",
       "7  -1.703431e-17  1.194577e-16 -1.679223e-16  8.009812e-17 -6.898809e-17   \n",
       "8  -6.471569e-18 -2.120238e-17  3.475943e-17  2.180280e-17 -1.369675e-16   \n",
       "9  -3.522260e-17 -1.087828e-17 -2.439927e-17 -4.823095e-17 -7.338084e-18   \n",
       "10 -7.462733e-17  3.863914e-16 -3.718039e-16 -4.779629e-17  1.876024e-16   \n",
       "11  4.225434e-17 -1.703903e-17 -1.793279e-17 -4.158313e-17 -3.151540e-17   \n",
       "12 -1.002622e-17 -1.865664e-16  5.635460e-19 -5.463357e-17  9.548289e-17   \n",
       "\n",
       "              5             6             7             8             9   \\\n",
       "0  -3.391037e-17  3.465215e-16 -1.703431e-17 -6.471569e-18 -3.522260e-17   \n",
       "1  -5.475110e-17 -1.247206e-16  1.194577e-16 -2.120238e-17 -1.087828e-17   \n",
       "2  -4.185407e-17 -3.556319e-16 -1.679223e-16  3.475943e-17 -2.439927e-17   \n",
       "3  -4.041056e-17 -1.020599e-16  8.009812e-17  2.180280e-17 -4.823095e-17   \n",
       "4   5.478625e-17  8.387026e-17 -6.898809e-17 -1.369675e-16 -7.338084e-18   \n",
       "5   1.000000e+00  3.043048e-17 -1.098668e-17  1.123540e-17  7.024052e-17   \n",
       "6   3.043048e-17  1.000000e+00 -2.220508e-16 -1.037492e-16 -2.217471e-18   \n",
       "7  -1.098668e-17 -2.220508e-16  1.000000e+00  3.077143e-16 -8.955512e-17   \n",
       "8   1.123540e-17 -1.037492e-16  3.077143e-16  1.000000e+00  2.737331e-16   \n",
       "9   7.024052e-17 -2.217471e-18 -8.955512e-17  2.737331e-16  1.000000e+00   \n",
       "10 -5.557096e-17  5.973171e-17 -2.006379e-16  4.101428e-16 -3.776282e-17   \n",
       "11  4.358204e-17  8.436509e-18  2.359952e-17 -2.490409e-17  1.079137e-16   \n",
       "12 -4.011589e-18 -4.097326e-17 -7.648014e-18  5.130613e-17  2.533682e-16   \n",
       "\n",
       "              10            11            12  \n",
       "0  -7.462733e-17  4.225434e-17 -1.002622e-17  \n",
       "1   3.863914e-16 -1.703903e-17 -1.865664e-16  \n",
       "2  -3.718039e-16 -1.793279e-17  5.635460e-19  \n",
       "3  -4.779629e-17 -4.158313e-17 -5.463357e-17  \n",
       "4   1.876024e-16 -3.151540e-17  9.548289e-17  \n",
       "5  -5.557096e-17  4.358204e-17 -4.011589e-18  \n",
       "6   5.973171e-17  8.436509e-18 -4.097326e-17  \n",
       "7  -2.006379e-16  2.359952e-17 -7.648014e-18  \n",
       "8   4.101428e-16 -2.490409e-17  5.130613e-17  \n",
       "9  -3.776282e-17  1.079137e-16  2.533682e-16  \n",
       "10  1.000000e+00 -2.598268e-16 -2.299821e-16  \n",
       "11 -2.598268e-16  1.000000e+00  1.225268e-17  \n",
       "12 -2.299821e-16  1.225268e-17  1.000000e+00  "
      ]
     },
     "execution_count": 13,
     "metadata": {},
     "output_type": "execute_result"
    }
   ],
   "source": [
    "transformed_df = pd.DataFrame(transformed)\n",
    "transformed_df.corr(method = 'pearson')"
   ]
  },
  {
   "cell_type": "markdown",
   "metadata": {},
   "source": [
    "linear correlation can be measured with the pearson correlation. PCA due to the rotation it performs decorrelates the data. now we see that data is decorrelated."
   ]
  },
  {
   "cell_type": "code",
   "execution_count": 14,
   "metadata": {},
   "outputs": [
    {
     "data": {
      "text/plain": [
       "array([[ 3.18562979e+02,  2.14921307e+01,  3.13073470e+00, ...,\n",
       "         8.87340044e-02, -3.85475626e-02,  8.02644337e-02],\n",
       "       [ 3.03097420e+02, -5.36471768e+00,  6.82283550e+00, ...,\n",
       "         3.97781862e-02, -5.71915771e-02,  1.35927465e-02],\n",
       "       [ 4.38061133e+02, -6.53730945e+00, -1.11322298e+00, ...,\n",
       "         2.37770027e-01, -4.87978751e-02, -3.54081623e-02],\n",
       "       ...,\n",
       "       [ 8.84580737e+01,  1.87762846e+01, -2.23757651e+00, ...,\n",
       "        -2.23049341e-01,  9.60485020e-02,  3.61748954e-02],\n",
       "       [ 9.34562419e+01,  1.86708191e+01, -1.78839152e+00, ...,\n",
       "        -3.04078323e-02, -5.20893107e-02,  1.32759078e-01],\n",
       "       [-1.86943190e+02, -2.13330803e-01, -5.63050984e+00, ...,\n",
       "         1.60725068e-01,  3.19201764e-02,  2.69369989e-02]])"
      ]
     },
     "execution_count": 14,
     "metadata": {},
     "output_type": "execute_result"
    }
   ],
   "source": [
    "transformed"
   ]
  },
  {
   "cell_type": "code",
   "execution_count": 15,
   "metadata": {},
   "outputs": [],
   "source": [
    "correlation_new, pvalue = pearsonr(transformed[:,5], transformed[:,6])"
   ]
  },
  {
   "cell_type": "code",
   "execution_count": 16,
   "metadata": {},
   "outputs": [
    {
     "data": {
      "text/plain": [
       "9.540979117872439e-18"
      ]
     },
     "execution_count": 16,
     "metadata": {},
     "output_type": "execute_result"
    }
   ],
   "source": [
    "correlation_new"
   ]
  },
  {
   "cell_type": "code",
   "execution_count": 17,
   "metadata": {},
   "outputs": [
    {
     "data": {
      "text/plain": [
       "<function matplotlib.pyplot.show(*args, **kw)>"
      ]
     },
     "execution_count": 17,
     "metadata": {},
     "output_type": "execute_result"
    },
    {
     "data": {
      "image/png": "[encoded data removed]",
      "text/plain": [
       "<Figure size 432x288 with 1 Axes>"
      ]
     },
     "metadata": {
      "needs_background": "light"
     },
     "output_type": "display_data"
    }
   ],
   "source": [
    "plt.scatter(transformed[:,5], transformed[:,6])\n",
    "plt.show"
   ]
  },
  {
   "cell_type": "code",
   "execution_count": 18,
   "metadata": {},
   "outputs": [],
   "source": [
    "scaler = StandardScaler()"
   ]
  },
  {
   "cell_type": "code",
   "execution_count": 19,
   "metadata": {},
   "outputs": [
    {
     "data": {
      "text/plain": [
       "Pipeline(memory=None,\n",
       "         steps=[('standardscaler',\n",
       "                 StandardScaler(copy=True, with_mean=True, with_std=True)),\n",
       "                ('pca',\n",
       "                 PCA(copy=True, iterated_power='auto', n_components=None,\n",
       "                     random_state=None, svd_solver='auto', tol=0.0,\n",
       "                     whiten=False))],\n",
       "         verbose=False)"
      ]
     },
     "execution_count": 19,
     "metadata": {},
     "output_type": "execute_result"
    }
   ],
   "source": [
    "pipeline = make_pipeline(scaler, model)\n",
    "pipeline.fit(X)"
   ]
  },
  {
   "cell_type": "code",
   "execution_count": 20,
   "metadata": {},
   "outputs": [],
   "source": [
    "features = range(model.n_components_)"
   ]
  },
  {
   "cell_type": "code",
   "execution_count": 21,
   "metadata": {},
   "outputs": [
    {
     "data": {
      "text/plain": [
       "([<matplotlib.axis.XTick at 0x7f8164097110>,\n",
       "  <matplotlib.axis.XTick at 0x7f8164912690>,\n",
       "  <matplotlib.axis.XTick at 0x7f81640d9810>,\n",
       "  <matplotlib.axis.XTick at 0x7f816405cc50>,\n",
       "  <matplotlib.axis.XTick at 0x7f81640691d0>,\n",
       "  <matplotlib.axis.XTick at 0x7f8164069790>,\n",
       "  <matplotlib.axis.XTick at 0x7f8164069610>,\n",
       "  <matplotlib.axis.XTick at 0x7f816406b490>,\n",
       "  <matplotlib.axis.XTick at 0x7f816406b2d0>,\n",
       "  <matplotlib.axis.XTick at 0x7f8164076190>,\n",
       "  <matplotlib.axis.XTick at 0x7f816406bb10>,\n",
       "  <matplotlib.axis.XTick at 0x7f816406b8d0>,\n",
       "  <matplotlib.axis.XTick at 0x7f8164076950>],\n",
       " <a list of 13 Text xticklabel objects>)"
      ]
     },
     "execution_count": 21,
     "metadata": {},
     "output_type": "execute_result"
    },
    {
     "data": {
      "image/png": "[encoded data removed]",
      "text/plain": [
       "<Figure size 432x288 with 1 Axes>"
      ]
     },
     "metadata": {
      "needs_background": "light"
     },
     "output_type": "display_data"
    }
   ],
   "source": [
    "plt.bar(features, model.explained_variance_)\n",
    "plt.xlabel('PCA features')\n",
    "plt.ylabel('variance')\n",
    "plt.xticks(features)"
   ]
  },
  {
   "cell_type": "markdown",
   "metadata": {},
   "source": [
    "Intrinsic dimension here can be chosen as 3. High variance features should be selected as intrinsic dimensios."
   ]
  },
  {
   "cell_type": "code",
   "execution_count": 22,
   "metadata": {},
   "outputs": [],
   "source": [
    "pca_features = PCA(n_components = 3)"
   ]
  },
  {
   "cell_type": "code",
   "execution_count": 23,
   "metadata": {},
   "outputs": [],
   "source": [
    "dimension_reduction_result = pca_features.fit_transform(X)"
   ]
  },
  {
   "cell_type": "markdown",
   "metadata": {},
   "source": [
    "PCA simply took the 3 PCA features with highest varience"
   ]
  },
  {
   "cell_type": "code",
   "execution_count": 24,
   "metadata": {},
   "outputs": [
    {
     "data": {
      "text/plain": [
       "(178, 3)"
      ]
     },
     "execution_count": 24,
     "metadata": {},
     "output_type": "execute_result"
    }
   ],
   "source": [
    "dimension_reduction_result.shape"
   ]
  },
  {
   "cell_type": "code",
   "execution_count": 25,
   "metadata": {},
   "outputs": [
    {
     "data": {
      "text/html": [
       "<div>\n",
       "<style scoped>\n",
       "    .dataframe tbody tr th:only-of-type {\n",
       "        vertical-align: middle;\n",
       "    }\n",
       "\n",
       "    .dataframe tbody tr th {\n",
       "        vertical-align: top;\n",
       "    }\n",
       "\n",
       "    .dataframe thead th {\n",
       "        text-align: right;\n",
       "    }\n",
       "</style>\n",
       "<table border=\"1\" class=\"dataframe\">\n",
       "  <thead>\n",
       "    <tr style=\"text-align: right;\">\n",
       "      <th></th>\n",
       "      <th>0</th>\n",
       "      <th>1</th>\n",
       "      <th>2</th>\n",
       "    </tr>\n",
       "  </thead>\n",
       "  <tbody>\n",
       "    <tr>\n",
       "      <td>0</td>\n",
       "      <td>318.562979</td>\n",
       "      <td>21.492131</td>\n",
       "      <td>3.130735</td>\n",
       "    </tr>\n",
       "    <tr>\n",
       "      <td>1</td>\n",
       "      <td>303.097420</td>\n",
       "      <td>-5.364718</td>\n",
       "      <td>6.822835</td>\n",
       "    </tr>\n",
       "    <tr>\n",
       "      <td>2</td>\n",
       "      <td>438.061133</td>\n",
       "      <td>-6.537309</td>\n",
       "      <td>-1.113223</td>\n",
       "    </tr>\n",
       "    <tr>\n",
       "      <td>3</td>\n",
       "      <td>733.240139</td>\n",
       "      <td>0.192729</td>\n",
       "      <td>-0.917257</td>\n",
       "    </tr>\n",
       "    <tr>\n",
       "      <td>4</td>\n",
       "      <td>-11.571428</td>\n",
       "      <td>18.489995</td>\n",
       "      <td>-0.554422</td>\n",
       "    </tr>\n",
       "    <tr>\n",
       "      <td>...</td>\n",
       "      <td>...</td>\n",
       "      <td>...</td>\n",
       "      <td>...</td>\n",
       "    </tr>\n",
       "    <tr>\n",
       "      <td>173</td>\n",
       "      <td>-6.980211</td>\n",
       "      <td>-4.541137</td>\n",
       "      <td>-2.474707</td>\n",
       "    </tr>\n",
       "    <tr>\n",
       "      <td>174</td>\n",
       "      <td>3.131605</td>\n",
       "      <td>2.335191</td>\n",
       "      <td>-4.309931</td>\n",
       "    </tr>\n",
       "    <tr>\n",
       "      <td>175</td>\n",
       "      <td>88.458074</td>\n",
       "      <td>18.776285</td>\n",
       "      <td>-2.237577</td>\n",
       "    </tr>\n",
       "    <tr>\n",
       "      <td>176</td>\n",
       "      <td>93.456242</td>\n",
       "      <td>18.670819</td>\n",
       "      <td>-1.788392</td>\n",
       "    </tr>\n",
       "    <tr>\n",
       "      <td>177</td>\n",
       "      <td>-186.943190</td>\n",
       "      <td>-0.213331</td>\n",
       "      <td>-5.630510</td>\n",
       "    </tr>\n",
       "  </tbody>\n",
       "</table>\n",
       "<p>178 rows × 3 columns</p>\n",
       "</div>"
      ],
      "text/plain": [
       "              0          1         2\n",
       "0    318.562979  21.492131  3.130735\n",
       "1    303.097420  -5.364718  6.822835\n",
       "2    438.061133  -6.537309 -1.113223\n",
       "3    733.240139   0.192729 -0.917257\n",
       "4    -11.571428  18.489995 -0.554422\n",
       "..          ...        ...       ...\n",
       "173   -6.980211  -4.541137 -2.474707\n",
       "174    3.131605   2.335191 -4.309931\n",
       "175   88.458074  18.776285 -2.237577\n",
       "176   93.456242  18.670819 -1.788392\n",
       "177 -186.943190  -0.213331 -5.630510\n",
       "\n",
       "[178 rows x 3 columns]"
      ]
     },
     "execution_count": 25,
     "metadata": {},
     "output_type": "execute_result"
    }
   ],
   "source": [
    "pd.DataFrame(dimension_reduction_result)"
   ]
  },
  {
   "cell_type": "code",
   "execution_count": null,
   "metadata": {},
   "outputs": [],
   "source": []
  }
 ],
 "metadata": {
  "kernelspec": {
   "display_name": "Python 3",
   "language": "python",
   "name": "python3"
  },
  "language_info": {
   "codemirror_mode": {
    "name": "ipython",
    "version": 3
   },
   "file_extension": ".py",
   "mimetype": "text/x-python",
   "name": "python",
   "nbconvert_exporter": "python",
   "pygments_lexer": "ipython3",
   "version": "3.7.4"
  }
 },
 "nbformat": 4,
 "nbformat_minor": 2
}
